{
 "metadata": {
  "kernelspec": {
   "display_name": "Streamlit Notebook",
   "name": "streamlit"
  },
  "lastEditStatus": {
   "notebookId": "q3q4lp3n5m4dzioa2m5c",
   "authorId": "7314641742292",
   "authorName": "GIRAFFE",
   "authorEmail": "s10241591@connect.np.edu.sg",
   "sessionId": "62b5b075-410c-4b9a-96d1-ffb3f0aa9500",
   "lastEditTime": 1737280033543
  }
 },
 "nbformat_minor": 5,
 "nbformat": 4,
 "cells": [
  {
   "cell_type": "markdown",
   "id": "3c28ed79-71a4-47bb-a681-65631412f1f2",
   "metadata": {
    "name": "cell3",
    "collapsed": false,
    "resultHeight": 74
   },
   "source": "# Trust Bank Data Pre-Processing Exploration"
  },
  {
   "cell_type": "code",
   "id": "53f8d0ee-152d-4a26-b7e3-e40fbf2bdad6",
   "metadata": {
    "language": "sql",
    "name": "cell27",
    "collapsed": false,
    "resultHeight": 0
   },
   "outputs": [],
   "source": "SELECT 'TRUSTBANKDATA.raw.' || table_name AS full_table_name\nFROM TRUSTBANKDATA.INFORMATION_SCHEMA.TABLES\nWHERE table_schema = 'RAW';",
   "execution_count": null
  },
  {
   "cell_type": "markdown",
   "id": "5528e423-4f0c-4cdd-990b-368574fb9524",
   "metadata": {
    "name": "cell1",
    "collapsed": false,
    "resultHeight": 60
   },
   "source": "## Transaction Tables"
  },
  {
   "cell_type": "code",
   "id": "6ad745da-d7c7-4256-bc8b-94bfe709502f",
   "metadata": {
    "language": "sql",
    "name": "cell2",
    "resultHeight": 0,
    "collapsed": false
   },
   "outputs": [],
   "source": "\n// table diagnostic features \n-- 1. TRUSTBANK.raw.FCT_TRANSACTIONS\nSELECT * FROM TRUSTBANKDATA.raw.FCT_TRANSACTIONS LIMIT 10;\n",
   "execution_count": null
  },
  {
   "cell_type": "code",
   "id": "6b7d5e03-a6bb-470b-b609-dbfaa55ef9ea",
   "metadata": {
    "language": "sql",
    "name": "cell7",
    "collapsed": false,
    "resultHeight": 0
   },
   "outputs": [],
   "source": "DESCRIBE TABLE TRUSTBANKDATA.raw.FCT_TRANSACTIONS",
   "execution_count": null
  },
  {
   "cell_type": "code",
   "id": "99ee41ad-f04b-4a3f-b5e4-b598fdb7855f",
   "metadata": {
    "language": "sql",
    "name": "cell4",
    "collapsed": false,
    "resultHeight": 0
   },
   "outputs": [],
   "source": "SELECT\n    TRANSACTIONID,\n    COUNT(*)\nFROM\n    TRUSTBANKDATA.raw.FCT_TRANSACTIONS\nGROUP BY\n    TRANSACTIONID\nHAVING\n    COUNT(*) > 1;\n",
   "execution_count": null
  },
  {
   "cell_type": "code",
   "id": "76d2d99e-cde4-4e58-a74a-eed04e287244",
   "metadata": {
    "language": "sql",
    "name": "cell5",
    "collapsed": false,
    "resultHeight": 0
   },
   "outputs": [],
   "source": "SELECT\n    COUNT_IF(TRANSACTIONID IS NULL) AS missing_transaction_ids,\n    COUNT_IF(TRANSACTIONSTARTDATETIME IS NULL) AS missing_start_datetime,\n    COUNT_IF(TRANSACTIONENDDATETIME IS NULL) AS missing_end_datetime,\n    COUNT_IF(CARDHOLDERID IS NULL) AS missing_cardholder_id,\n    COUNT_IF(LOCATIONID IS NULL) AS missing_location_id,\n    COUNT_IF(TRANSACTIONTYPEID IS NULL) AS missing_transaction_type_id\nFROM\n    TRUSTBANKDATA.raw.FCT_TRANSACTIONS\n\n",
   "execution_count": null
  },
  {
   "cell_type": "code",
   "id": "0696f128-4e4b-491f-a9a0-dc80f05d10de",
   "metadata": {
    "language": "sql",
    "name": "cell6",
    "collapsed": false,
    "resultHeight": 0
   },
   "outputs": [],
   "source": "SELECT\n    TRANSACTIONTYPEID,\n    COUNT(*) AS count\nFROM\n    TRUSTBANKDATA.raw.FCT_TRANSACTIONS\nGROUP BY\n    TRANSACTIONTYPEID\nORDER BY\n    count DESC;\n",
   "execution_count": null
  },
  {
   "cell_type": "code",
   "id": "f4989c1d-77e1-47af-9872-5b561d67d984",
   "metadata": {
    "language": "sql",
    "name": "cell8",
    "collapsed": false,
    "resultHeight": 0
   },
   "outputs": [],
   "source": "SELECT\n    CARDHOLDERID,\n    COUNT(*) AS transaction_count,\n    MIN(TRANSACTIONSTARTDATETIME) AS first_transaction,\n    MAX(TRANSACTIONENDDATETIME) AS last_transaction\nFROM\n    TRUSTBANKDATA.raw.FCT_TRANSACTIONS\nGROUP BY\n    CARDHOLDERID\nORDER BY\n    transaction_count DESC;\n",
   "execution_count": null
  },
  {
   "cell_type": "code",
   "id": "371bca78-b547-4f62-9f0d-1e9dbeb8a987",
   "metadata": {
    "language": "sql",
    "name": "cell9",
    "collapsed": false,
    "resultHeight": 0
   },
   "outputs": [],
   "source": "SELECT\n    MIN(TRANSACTIONSTARTDATETIME) AS min_start_date,\n    MAX(TRANSACTIONENDDATETIME) AS max_end_date\nFROM\n    TRUSTBANKDATA.raw.FCT_TRANSACTIONS\n",
   "execution_count": null
  },
  {
   "cell_type": "markdown",
   "id": "9e52cb2d-e94b-462e-ac79-085bfe1811ce",
   "metadata": {
    "name": "cell10",
    "collapsed": false,
    "resultHeight": 60
   },
   "source": "## ATM_LOCATION_LOOKUP Table"
  },
  {
   "cell_type": "code",
   "id": "76e624aa-e481-469c-819a-ce56cfd0b244",
   "metadata": {
    "language": "sql",
    "name": "cell11",
    "collapsed": false,
    "resultHeight": 0
   },
   "outputs": [],
   "source": "\n// table diagnostic features \n-- 1. TRUSTBANK.raw\nSELECT * FROM TRUSTBANKDATA.raw.ATM_LOCATION_LOOKUP LIMIT 30;\n",
   "execution_count": null
  },
  {
   "cell_type": "code",
   "id": "98fc6b57-7f25-421a-8883-f805cc307147",
   "metadata": {
    "language": "sql",
    "name": "cell18",
    "collapsed": false,
    "resultHeight": 0
   },
   "outputs": [],
   "source": "DESCRIBE TABLE TRUSTBANKDATA.raw.ATM_LOCATION_LOOKUP",
   "execution_count": null
  },
  {
   "cell_type": "code",
   "id": "684fd13c-9922-4108-8fec-06c0e83ad704",
   "metadata": {
    "language": "sql",
    "name": "cell33",
    "collapsed": false,
    "resultHeight": 0
   },
   "outputs": [],
   "source": "SELECT\n    COUNT_IF(LOCATIONID IS NULL) AS missing_location_ids,\n    COUNT_IF(LOCATION_NAME IS NULL) AS missing_location_names,\n    COUNT_IF(NO_OF_ATMS IS NULL) AS missing_no_of_atms,\n    COUNT_IF(CITY IS NULL) AS missing_cities,\n    COUNT_IF(STATE IS NULL) AS missing_states,\n    COUNT_IF(COUNTRY IS NULL) AS missing_countries,\n    COUNT_IF(INSTALLATION_DATE IS NULL) AS missing_installation_dates,\n    COUNT_IF(MAINTENANCE_DATE IS NULL) AS missing_maintenance_dates,\n    COUNT_IF(OPERATIONAL_STATUS IS NULL) AS missing_operational_statuses,\n    COUNT_IF(CASH_DEPOSIT_AVAILABLE IS NULL) AS missing_cash_deposit_available\nFROM\n   TRUSTBANKDATA.raw.ATM_LOCATION_LOOKUP",
   "execution_count": null
  },
  {
   "cell_type": "code",
   "id": "1e875d82-adee-4fee-983b-215fe0596997",
   "metadata": {
    "language": "sql",
    "name": "cell12",
    "collapsed": false,
    "resultHeight": 0
   },
   "outputs": [],
   "source": "SELECT City, SUM(No_of_ATMS) AS Total_ATMs\nFROM TRUSTBANKDATA.raw.ATM_LOCATION_LOOKUP\nGROUP BY City\nORDER BY Total_ATMs DESC;\n",
   "execution_count": null
  },
  {
   "cell_type": "code",
   "id": "db816323-3670-464e-9944-7d53a80756a6",
   "metadata": {
    "language": "sql",
    "name": "cell13",
    "collapsed": false,
    "resultHeight": 181
   },
   "outputs": [],
   "source": "SELECT Operational_Status, COUNT(*) AS Number_of_Locations\nFROM TRUSTBANKDATA.raw.ATM_LOCATION_LOOKUP\nGROUP BY Operational_Status;",
   "execution_count": null
  },
  {
   "cell_type": "code",
   "id": "f4f40e33-d902-4f15-ac83-59685c788699",
   "metadata": {
    "language": "sql",
    "name": "cell14",
    "collapsed": false,
    "resultHeight": 438
   },
   "outputs": [],
   "source": "SELECT *\nFROM TRUSTBANKDATA.raw.ATM_LOCATION_LOOKUP\nWHERE Maintenance_Date IS NULL;",
   "execution_count": null
  },
  {
   "cell_type": "code",
   "id": "12df437c-b6e7-4297-834f-60957b45e404",
   "metadata": {
    "language": "sql",
    "name": "cell15",
    "collapsed": false,
    "resultHeight": 146
   },
   "outputs": [],
   "source": "SELECT Cash_Deposit_Available, COUNT(*) AS Count\nFROM TRUSTBANKDATA.raw.ATM_LOCATION_LOOKUP\nGROUP BY Cash_Deposit_Available;\n",
   "execution_count": null
  },
  {
   "cell_type": "code",
   "id": "daa82274-f441-4492-87a1-be88d726dfef",
   "metadata": {
    "language": "sql",
    "name": "cell16",
    "collapsed": false,
    "resultHeight": 438
   },
   "outputs": [],
   "source": "SELECT Location_Name, MAX(Maintenance_Date) AS Latest_Maintenance_Date\nFROM TRUSTBANKDATA.raw.ATM_LOCATION_LOOKUP\nWHERE Maintenance_Date is not Null\nGROUP BY Location_Name\nORDER BY Latest_Maintenance_Date DESC;\n",
   "execution_count": null
  },
  {
   "cell_type": "markdown",
   "id": "c4c82998-7b2b-402d-93f3-af8e3eea1df1",
   "metadata": {
    "name": "cell17",
    "collapsed": false,
    "resultHeight": 60
   },
   "source": "## Branch_Lookup Table"
  },
  {
   "cell_type": "code",
   "id": "dd789815-edec-4045-8279-ccbbee99bddb",
   "metadata": {
    "language": "sql",
    "name": "cell19",
    "collapsed": false,
    "resultHeight": 321
   },
   "outputs": [],
   "source": "\n\n// table diagnostic features \n-- 1. TRUSTBANK.raw\nSELECT * FROM TRUSTBANKDATA.raw.BRANCH_LOOKUP LIMIT 30;",
   "execution_count": null
  },
  {
   "cell_type": "code",
   "id": "60a32695-287b-4dea-8229-2322042d3a12",
   "metadata": {
    "language": "sql",
    "name": "cell20",
    "collapsed": false,
    "resultHeight": 251
   },
   "outputs": [],
   "source": "SELECT\n    Location,\n    Yearly_Revenue_SGD\nFROM TRUSTBANKDATA.raw.BRANCH_LOOKUP\nORDER BY CAST(Yearly_Revenue_SGD AS FLOAT) DESC\nLIMIT 5;\n",
   "execution_count": null
  },
  {
   "cell_type": "code",
   "id": "500d6f16-a205-4d68-9f34-53efffd41e60",
   "metadata": {
    "language": "sql",
    "name": "cell21",
    "collapsed": false,
    "resultHeight": 391
   },
   "outputs": [],
   "source": "DESCRIBE TABLE TRUSTBANKDATA.raw.BRANCH_LOOKUP",
   "execution_count": null
  },
  {
   "cell_type": "markdown",
   "id": "b5b28629-71f6-4d3a-9679-9683a1fb6175",
   "metadata": {
    "name": "cell22",
    "collapsed": false,
    "resultHeight": 60
   },
   "source": "## BRANCH_PERFORMANCE Table"
  },
  {
   "cell_type": "code",
   "id": "2a3d3f2d-3ff4-4e7f-8d90-3bdee110a828",
   "metadata": {
    "language": "sql",
    "name": "cell23",
    "collapsed": false,
    "resultHeight": 438
   },
   "outputs": [],
   "source": "\n// table diagnostic features \n-- 1. TRUSTBANK.raw\nSELECT * FROM TRUSTBANKDATA.raw.BRANCH_Performance LIMIT 30;",
   "execution_count": null
  },
  {
   "cell_type": "code",
   "id": "fb577727-7b7f-4e4e-b001-f6ee334bf9be",
   "metadata": {
    "language": "sql",
    "name": "cell31",
    "collapsed": false,
    "resultHeight": 438
   },
   "outputs": [],
   "source": "DESCRIBE TABLE TRUSTBANKDATA.raw.BRANCH_Performance",
   "execution_count": null
  },
  {
   "cell_type": "code",
   "id": "482d3c63-1d47-4990-bfb2-71e16fd07959",
   "metadata": {
    "language": "sql",
    "name": "cell32",
    "collapsed": false,
    "resultHeight": 111
   },
   "outputs": [],
   "source": "SELECT\n    COUNT_IF(branch_id IS NULL) AS missing_branch_ids,\n    COUNT_IF(date IS NULL) AS missing_dates,\n    COUNT_IF(ATM_Usage_Count IS NULL) AS missing_atm_usage_counts,\n    COUNT_IF(Average_Transaction_Time_Minutes IS NULL) AS missing_avg_transaction_times,\n    COUNT_IF(Customer_Satisfaction_Score IS NULL) AS missing_customer_satisfaction_scores,\n    COUNT_IF(Compliance_Issue_Count IS NULL) AS missing_compliance_issue_counts,\n    COUNT_IF(Fraudulent_Transactions_Count IS NULL) AS missing_fraudulent_transaction_counts,\n    COUNT_IF(New_Accounts_Opened_Count IS NULL) AS missing_new_accounts_opened_counts,\n    COUNT_IF(Accounts_Closed_Count IS NULL) AS missing_accounts_closed_counts,\n    COUNT_IF(Credit_Card_Applications_Received_Count IS NULL) AS missing_credit_card_applications_received_counts,\n    COUNT_IF(Branch_Operational_Hours_Hours IS NULL) AS missing_branch_operational_hours,\n    COUNT_IF(ATM_Operational_Hours_Hours IS NULL) AS missing_atm_operational_hours,\n    COUNT_IF(Maintenance_Issues_Reported_Count IS NULL) AS missing_maintenance_issues_reported_counts,\n    COUNT_IF(ATM_Downtime_Hours IS NULL) AS missing_atm_downtime_hours,\n    COUNT_IF(Transaction_Error_Count IS NULL) AS missing_transaction_error_counts\nFROM\n   TRUSTBANKDATA.raw.BRANCH_Performance\n",
   "execution_count": null
  },
  {
   "cell_type": "code",
   "id": "07db46dd-5895-411a-a03f-101ce494f998",
   "metadata": {
    "language": "sql",
    "name": "cell24",
    "collapsed": false,
    "resultHeight": 321
   },
   "outputs": [],
   "source": "SELECT \n    branch_id, \n    AVG(CAST(ATM_Usage_Count AS INT)) AS Avg_ATM_Usage,\n    AVG(Average_Transaction_Time_Minutes) AS Avg_Transaction_Time,\n    AVG(Customer_Satisfaction_Score) AS Avg_Satisfaction_Score,\n    SUM(Fraudulent_Transactions_Count) AS Total_Fraudulent_Transactions,\n    SUM(New_Accounts_Opened_Count) AS Total_New_Accounts,\n    AVG(CAST(ATM_Downtime_Hours AS FLOAT)) AS Avg_ATM_Downtime\nFROM \n    TRUSTBANKDATA.raw.BRANCH_PERFORMANCE\nGROUP BY \n    branch_id;\n",
   "execution_count": null
  },
  {
   "cell_type": "code",
   "id": "2558898e-0cdb-42d9-bfd1-8d56b2c5faae",
   "metadata": {
    "language": "sql",
    "name": "cell25",
    "collapsed": false,
    "resultHeight": 321
   },
   "outputs": [],
   "source": "SELECT \n    branch_id,\n    AVG(Customer_Satisfaction_Score) AS Avg_Customer_Satisfaction,\n    SUM(COMPLIANCE_ISSUE_Count) AS Total_Compliance_Issue\nFROM\n    TRUSTBANKDATA.raw.BRANCH_PERFORMANCE\nGROUP BY \n    branch_id\nORDER BY \n    Avg_Customer_Satisfaction DESC;\n",
   "execution_count": null
  },
  {
   "cell_type": "code",
   "id": "03bf4226-9c50-43f2-9ac8-1202cc08d6f5",
   "metadata": {
    "language": "sql",
    "name": "cell26",
    "collapsed": false,
    "resultHeight": 321
   },
   "outputs": [],
   "source": "SELECT \n    branch_id,\n    SUM(Credit_Card_Applications_Received_Count) AS Total_Credit_Applications,\n    SUM(New_Accounts_Opened_Count) AS Total_New_Accounts,\n    SUM(Accounts_Closed_Count) AS Total_Accounts_Closed\nFROM \n    TRUSTBANKDATA.raw.BRANCH_PERFORMANCE\nGROUP BY \n    branch_id;\n",
   "execution_count": null
  },
  {
   "cell_type": "code",
   "id": "879bc11c-26ef-40ef-8e4b-eed13cc5e846",
   "metadata": {
    "language": "sql",
    "name": "cell28",
    "collapsed": false,
    "resultHeight": 321
   },
   "outputs": [],
   "source": "SELECT \n    branch_id,\n    AVG(Average_Transaction_Time_Minutes) AS Avg_Transaction_Time,\n    AVG(ATM_Operational_Hours_Hours) AS Avg_ATM_Operational_Hours\nFROM \n    TRUSTBANKDATA.raw.BRANCH_PERFORMANCE\nGROUP BY \n    branch_id\nORDER BY \n    Avg_Transaction_Time;\n",
   "execution_count": null
  },
  {
   "cell_type": "code",
   "id": "59ca7f38-b2e8-46ad-88b5-fdbd2528eaad",
   "metadata": {
    "language": "sql",
    "name": "cell29",
    "collapsed": false,
    "resultHeight": 321
   },
   "outputs": [],
   "source": "SELECT \n    branch_id,\n    SUM(Compliance_Issue_Count) AS Total_Compliance_Issues,\n    SUM(Fraudulent_Transactions_Count) AS Total_Fraudulent_Transactions\nFROM \n    TRUSTBANKDATA.raw.BRANCH_PERFORMANCE\nGROUP BY \n    branch_id\nORDER BY \n    Total_Compliance_Issues DESC, \n    Total_Fraudulent_Transactions DESC;\n",
   "execution_count": null
  },
  {
   "cell_type": "code",
   "id": "c1a70d46-64c4-408e-80b5-261381bdaa79",
   "metadata": {
    "language": "sql",
    "name": "cell30",
    "collapsed": false,
    "resultHeight": 321
   },
   "outputs": [],
   "source": "SELECT \n    branch_id,\n    AVG(CAST(ATM_Downtime_Hours AS FLOAT)) AS Avg_ATM_Downtime_Hours,\n    SUM(Maintenance_Issues_Reported_Count) AS Total_Maintenance_Issues\nFROM \n    TRUSTBANKDATA.raw.BRANCH_PERFORMANCE\nGROUP BY \n    branch_id;\n",
   "execution_count": null
  },
  {
   "cell_type": "markdown",
   "id": "4149a519-4506-4174-bcdd-a2d482086d7c",
   "metadata": {
    "name": "cell34",
    "collapsed": false,
    "resultHeight": 60
   },
   "source": "## Branch Table"
  },
  {
   "cell_type": "code",
   "id": "2ac4fcbc-9a71-4a5e-9e88-7b2d7bdf08c6",
   "metadata": {
    "language": "sql",
    "name": "cell35",
    "collapsed": false,
    "resultHeight": 438
   },
   "outputs": [],
   "source": "\n// table diagnostic features \n-- 1. TRUSTBANK.raw\nSELECT * FROM TRUSTBANKDATA.raw.BRANCH_TABLE LIMIT 100;",
   "execution_count": null
  },
  {
   "cell_type": "code",
   "id": "08ba6a79-0633-4613-bdf1-a3d6960200fd",
   "metadata": {
    "language": "sql",
    "name": "cell36",
    "collapsed": false,
    "resultHeight": 0
   },
   "outputs": [],
   "source": "SELECT\n    COUNT_IF(branch_id IS NULL) AS missing_branch_ids,\n    COUNT_IF(date IS NULL) AS missing_dates,\n    COUNT_IF(Branch_Revenue_SGD IS NULL) AS missing_branch_revenue,\n    COUNT_IF(Branch_Expenses_SGD IS NULL) AS missing_branch_expenses,\n    COUNT_IF(Net_Income_SGD IS NULL) AS missing_net_income,\n    COUNT_IF(Branch_Manager_ID IS NULL) AS missing_branch_manager_id,\n    COUNT_IF(Avg_Daily_Branch_Transaction_Value_SGD IS NULL) AS missing_avg_daily_transaction_value,\n    COUNT_IF(Pending_Transactions_Count IS NULL) AS missing_pending_transactions,\n    COUNT_IF(Branch_Avg_Transaction_Queue_Length IS NULL) AS missing_avg_transaction_queue_length,\n    COUNT_IF(Digital_Transactions_Volume_ IS NULL) AS missing_digital_transactions_volume,\n    COUNT_IF(Branch_Internet_Downtime_Hours IS NULL) AS missing_internet_downtime\nFROM\n    TRUSTBANKDATA.raw.BRANCH_TABLE\n",
   "execution_count": null
  },
  {
   "cell_type": "code",
   "id": "7d221877-0e09-4350-bef1-3ad9b11eb389",
   "metadata": {
    "language": "sql",
    "name": "cell37",
    "collapsed": false,
    "resultHeight": 0
   },
   "outputs": [],
   "source": "DESCRIBE TABLE TRUSTBANKDATA.raw.BRANCH_TABLE",
   "execution_count": null
  },
  {
   "cell_type": "code",
   "id": "7934144c-398c-4057-89f2-49d74327ea4f",
   "metadata": {
    "language": "sql",
    "name": "cell38",
    "collapsed": false,
    "resultHeight": 0
   },
   "outputs": [],
   "source": "SELECT\n    branch_id,\n    SUM(CAST(Branch_Revenue_SGD AS FLOAT)) AS Total_Revenue,\n    SUM(CAST(Branch_Expenses_SGD AS FLOAT)) AS Total_Expenses,\n    SUM(CAST(Net_Income_SGD AS FLOAT)) AS Net_Income\nFROM\n    TRUSTBANKDATA.raw.BRANCH_TABLE\nGROUP BY\n    branch_id\nORDER BY\n    Net_Income DESC;\n",
   "execution_count": null
  },
  {
   "cell_type": "markdown",
   "id": "8d8ce5b7-3e55-4759-b064-3f3149f98807",
   "metadata": {
    "name": "cell39",
    "collapsed": false,
    "resultHeight": 60
   },
   "source": "## CALENDAR_LOOKUP"
  },
  {
   "cell_type": "code",
   "id": "c19f03cf-df57-4f6e-bf02-2a7c6a5d0b04",
   "metadata": {
    "language": "sql",
    "name": "cell40",
    "collapsed": false,
    "resultHeight": 0
   },
   "outputs": [],
   "source": "\n// table diagnostic features \n-- 1. TRUSTBANK.raw\nSELECT * FROM TRUSTBANKDATA.raw.calendar_lookup LIMIT 30;",
   "execution_count": null
  },
  {
   "cell_type": "code",
   "id": "7e0c878e-2ba1-468b-95d2-6175e3b33d42",
   "metadata": {
    "language": "sql",
    "name": "cell41",
    "collapsed": false,
    "resultHeight": 0
   },
   "outputs": [],
   "source": "SELECT\n    COUNT_IF(Date IS NULL) AS missing_date,\n    COUNT_IF(Quarter IS NULL) AS missing_quarter,\n    COUNT_IF(Month IS NULL) AS missing_month,\n    COUNT_IF(Month_Name IS NULL) AS missing_month_name,\n    COUNT_IF(DAY_OF_WEEK IS NULL) AS missing_day,\n    COUNT_IF(IsHoliday IS NULL) AS missing_is_holiday,\n    COUNT_IF(Day_Name IS NULL) AS missing_day_name,\n    COUNT_IF(Week_of_Year IS NULL) AS missing_week_of_year,\n    COUNT_IF(Year IS NULL) AS missing_year,\n    COUNT_IF(END_OF_WEEK IS NULL) AS missing_start_of_month\nFROM\n    TRUSTBANKDATA.raw.calendar_lookup\n",
   "execution_count": null
  },
  {
   "cell_type": "code",
   "id": "a10cdadf-1f58-4cf4-b9e5-439905d3ed8d",
   "metadata": {
    "language": "sql",
    "name": "cell42",
    "collapsed": false,
    "resultHeight": 0
   },
   "outputs": [],
   "source": "DESCRIBE TABLE TRUSTBANKDATA.raw.calendar_lookup",
   "execution_count": null
  },
  {
   "cell_type": "markdown",
   "id": "c7d9f7e6-e6c6-45b3-b710-53e559dd739f",
   "metadata": {
    "name": "cell43",
    "collapsed": false,
    "resultHeight": 60
   },
   "source": "## CUSTOMERLOOKUP"
  },
  {
   "cell_type": "code",
   "id": "f48344a5-c534-4f5f-bd52-3200577db354",
   "metadata": {
    "language": "sql",
    "name": "cell44",
    "collapsed": false,
    "resultHeight": 438
   },
   "outputs": [],
   "source": "// table diagnostic features \n-- 1. TRUSTBANK.raw\nSELECT * FROM TRUSTBANKDATA.raw.customerlookup LIMIT 30;",
   "execution_count": null
  },
  {
   "cell_type": "code",
   "id": "e7cca18c-70ea-4560-93da-0ebd37720b31",
   "metadata": {
    "language": "sql",
    "name": "cell45",
    "collapsed": false,
    "resultHeight": 0
   },
   "outputs": [],
   "source": "SELECT\n    COUNT_IF(CardholderID IS NULL) AS missing_cardholder_ids,\n    COUNT_IF(First_Name IS NULL) AS missing_first_names,\n    COUNT_IF(Last_Name IS NULL) AS missing_last_names,\n    COUNT_IF(Gender IS NULL) AS missing_genders,\n    COUNT_IF(ATMID IS NULL) AS missing_atm_ids,\n    COUNT_IF(BIRTH_DATE IS NULL) AS missing_ages,\n    \n    COUNT_IF(AccountType IS NULL) AS missing_account_types,\n    COUNT_IF(IsPrivateBanking IS NULL) AS missing_is_private_banking,\n    COUNT_IF(Preferred_Contact_Method IS NULL) AS missing_preferred_contact_methods,\n    COUNT_IF(CustomerSince IS NULL) AS missing_customer_since,\n    COUNT_IF(PhoneNo IS NULL) AS missing_phone_numbers,\n    COUNT_IF(Balance_SGD IS NULL) AS missing_balances,\n    COUNT_IF(\"BRANCH-ID\" IS NULL) AS missing_branch_ids,\n    COUNT_IF(INVESTMENT_PORTFOLIO_VALUE__SGD IS NULL) AS missing_investment_portfolio_values\nFROM\n    TRUSTBANKDATA.raw.customerlookup\n",
   "execution_count": null
  },
  {
   "cell_type": "code",
   "id": "49060549-b948-4bf0-93c3-0785d81ce410",
   "metadata": {
    "language": "sql",
    "name": "cell46",
    "collapsed": false,
    "resultHeight": 438
   },
   "outputs": [],
   "source": "DESCRIBE TABLE TRUSTBANKDATA.raw.CUSTOMERLOOKUP",
   "execution_count": null
  },
  {
   "cell_type": "code",
   "id": "127824cf-5938-4ee2-b943-6727da426436",
   "metadata": {
    "language": "sql",
    "name": "cell47",
    "collapsed": false,
    "resultHeight": 181
   },
   "outputs": [],
   "source": "SELECT\n    'Total Rows' AS Metric, COUNT(*) AS Value\nFROM TRUSTBANKDATA.raw.CUSTOMERLOOKUP\nUNION ALL\nSELECT\n    'Missing Cardholder IDs', COUNT_IF(CardholderID IS NULL)\nFROM TRUSTBANKDATA.raw.CUSTOMERLOOKUP\nUNION ALL\nSELECT\n    'Unique Cardholder IDs', COUNT(DISTINCT CardholderID)\nFROM TRUSTBANKDATA.raw.CUSTOMERLOOKUP\n",
   "execution_count": null
  },
  {
   "cell_type": "code",
   "id": "ae695051-72ac-48d8-bad1-0a6ebc8980a3",
   "metadata": {
    "language": "sql",
    "name": "cell49",
    "collapsed": false,
    "resultHeight": 111
   },
   "outputs": [],
   "source": "-- Account Type Distribution\nSELECT AccountType, COUNT(*) AS Count\nFROM TRUSTBANKDATA.raw.CUSTOMERLOOKUP\nGROUP BY AccountType;\n\n-- Enrollment in Private Banking\nSELECT IsPrivateBanking, COUNT(*) AS Count\nFROM TRUSTBANKDATA.raw.CUSTOMERLOOKUP\nGROUP BY IsPrivateBanking;\n\n-- Balance Distribution\nSELECT AVG(Balance_SGD) AS Average_Balance, MIN(Balance_SGD) AS Min_Balance, MAX(Balance_SGD) AS Max_Balance\nFROM TRUSTBANKDATA.raw.CUSTOMERLOOKUP\nWHERE Balance_SGD IS NOT NULL;\n",
   "execution_count": null
  },
  {
   "cell_type": "code",
   "id": "01ea3857-88ff-4226-9c29-6091de011e6e",
   "metadata": {
    "language": "sql",
    "name": "cell48",
    "collapsed": false,
    "resultHeight": 181
   },
   "outputs": [],
   "source": "-- Check for undefined or unusual categories in Gender\nSELECT Gender, COUNT(*) AS Count\nFROM TRUSTBANKDATA.raw.CUSTOMERLOOKUP\nGROUP BY Gender\nHAVING Gender NOT IN ('Male', 'Female', 'Other') OR Gender IS NULL;\n\n\n",
   "execution_count": null
  },
  {
   "cell_type": "code",
   "id": "5a7c65a0-5979-4fc5-a2bd-d3dcbf97991a",
   "metadata": {
    "language": "sql",
    "name": "cell50",
    "collapsed": false,
    "resultHeight": 181
   },
   "outputs": [],
   "source": "-- Check for unusual entries in Account Type\nSELECT AccountType, COUNT(*) AS Count\nFROM TRUSTBANKDATA.raw.CUSTOMERLOOKUP\nGROUP BY AccountType;\n\n",
   "execution_count": null
  },
  {
   "cell_type": "code",
   "id": "6d02e384-cc05-4192-812b-e872d934e3ca",
   "metadata": {
    "language": "sql",
    "name": "cell51",
    "collapsed": false,
    "resultHeight": 181
   },
   "outputs": [],
   "source": "-- Check consistency in the IsPrivateBanking field\nSELECT IsPrivateBanking, COUNT(*) AS Count\nFROM TRUSTBANKDATA.raw.CUSTOMERLOOKUP\nGROUP BY IsPrivateBanking;",
   "execution_count": null
  },
  {
   "cell_type": "code",
   "id": "c23b4c68-2042-4cbd-81fc-c7bd064ef59b",
   "metadata": {
    "language": "sql",
    "name": "cell52",
    "collapsed": false,
    "resultHeight": 111
   },
   "outputs": [],
   "source": "-- Check for any irregularities in names (e.g., non-alphabetical characters, very short or long names)\nSELECT First_Name, Last_Name, COUNT(*) AS Count\nFROM TRUSTBANKDATA.raw.CUSTOMERLOOKUP\nGROUP BY First_Name, Last_Name\nHAVING LENGTH(First_Name) < 2 OR LENGTH(Last_Name) < 2;\n\n\n",
   "execution_count": null
  },
  {
   "cell_type": "code",
   "id": "9391b84a-4be7-4f48-af52-5c10c6f182a5",
   "metadata": {
    "language": "sql",
    "name": "cell53",
    "collapsed": false,
    "resultHeight": 438
   },
   "outputs": [],
   "source": "-- Analysis of phone number formats\nSELECT PhoneNo, COUNT(*) AS Count\nFROM TRUSTBANKDATA.raw.CUSTOMERLOOKUP\nWHERE PhoneNo NOT LIKE '+%' AND PhoneNo NOT LIKE '(%'  -- assuming phone numbers should start with a '+' or are formatted\nGROUP BY PhoneNo;",
   "execution_count": null
  },
  {
   "cell_type": "code",
   "id": "629ae518-0a0a-43a3-8977-d1153d17387b",
   "metadata": {
    "language": "sql",
    "name": "cell54",
    "collapsed": false,
    "resultHeight": 111
   },
   "outputs": [],
   "source": "-- Check for outliers in Balance and Investment Portfolio Value\nSELECT \n    MIN(Balance_SGD) AS Min_Balance,\n    MAX(Balance_SGD) AS Max_Balance,\n    AVG(Balance_SGD) AS Avg_Balance,\n    MIN(Investment_Portfolio_Value__SGD) AS Min_Investment,\n    MAX(Investment_Portfolio_Value__SGD) AS Max_Investment,\n    AVG(Investment_Portfolio_Value__SGD) AS Avg_Investment\nFROM TRUSTBANKDATA.raw.CUSTOMERLOOKUP\n",
   "execution_count": null
  },
  {
   "cell_type": "code",
   "id": "95a80038-eeeb-4b58-b954-b93a5f8e4a0f",
   "metadata": {
    "language": "sql",
    "name": "cell55",
    "collapsed": false,
    "resultHeight": 111
   },
   "outputs": [],
   "source": "-- Identifying duplicate records\nSELECT CardholderID, COUNT(*) AS Count\nFROM TRUSTBANKDATA.raw.CUSTOMERLOOKUP\nGROUP BY CardholderID\nHAVING COUNT(*) > 1;\n",
   "execution_count": null
  },
  {
   "cell_type": "markdown",
   "id": "dbd25f17-4fc2-4b81-bdc2-408fa1a777b7",
   "metadata": {
    "name": "cell56",
    "collapsed": false,
    "resultHeight": 60
   },
   "source": "## Customer_Demographics"
  },
  {
   "cell_type": "code",
   "id": "e41ee4bf-bb37-44cd-ac4d-a812d9bf5939",
   "metadata": {
    "language": "sql",
    "name": "cell57",
    "collapsed": false,
    "resultHeight": 0
   },
   "outputs": [],
   "source": "// table diagnostic features \n-- 1. TRUSTBANK.raw\nSELECT * FROM TRUSTBANKDATA.raw.customer_demographics LIMIT 100;",
   "execution_count": null
  },
  {
   "cell_type": "code",
   "id": "81f93297-8897-4ae3-9eb2-902ecfe4c761",
   "metadata": {
    "language": "sql",
    "name": "cell58",
    "collapsed": false,
    "resultHeight": 111
   },
   "outputs": [],
   "source": "SELECT\n    COUNT(*) AS Total_Records,\n    COUNT_IF(Gender IS NULL) AS Missing_Gender,\n    COUNT_IF(Occupation IS NULL) AS Missing_Occupation,\n    COUNT_IF(AccountType IS NULL) AS Missing_AccountType,\n    COUNT_IF(IsPrivateBanking IS NULL) AS Missing_IsPrivateBanking,\n    COUNT_IF(Marital_Status IS NULL) AS Missing_Marital_Status,\n    COUNT_IF(Education_Level IS NULL) AS Missing_Education_Level,\n    COUNT_IF(Age IS NULL) AS Missing_Age,\n    COUNT_IF(Address IS NULL) AS Missing_Address,\n    COUNT_IF(District IS NULL) AS Missing_District,\n    COUNT_IF(Citizenship IS NULL) AS Missing_Citizenship,\n    COUNT_IF(Language_Preference IS NULL) AS Missing_Language_Preference,\n    COUNT_IF(Age_Group IS NULL) AS Missing_Age_Group,\n    COUNT_IF(Income_Frequency IS NULL) AS Missing_Income_Frequency,\n    COUNT_IF(Homeownership IS NULL) AS Missing_Homeownership\nFROM customer_demographics;\n",
   "execution_count": null
  },
  {
   "cell_type": "code",
   "id": "f164a8a2-5c14-48e2-ac3a-fe4aca39d40b",
   "metadata": {
    "language": "sql",
    "name": "cell85",
    "collapsed": false,
    "resultHeight": 438
   },
   "outputs": [],
   "source": "DESCRIBE TABLE customer_demographics;",
   "execution_count": null
  },
  {
   "cell_type": "code",
   "id": "9f34d904-f047-47dc-9dda-f23a95846074",
   "metadata": {
    "language": "sql",
    "name": "cell59",
    "collapsed": false,
    "resultHeight": 111
   },
   "outputs": [],
   "source": "-- Checking Address Consistency\nSELECT Address, COUNT(*) AS Count\nFROM customer_demographics\nGROUP BY Address\nHAVING COUNT(*) > 1;\n\n",
   "execution_count": null
  },
  {
   "cell_type": "code",
   "id": "80bfde3c-e88b-4aaf-8a1a-aea9f049f20d",
   "metadata": {
    "language": "sql",
    "name": "cell60",
    "collapsed": false,
    "resultHeight": 111
   },
   "outputs": [],
   "source": "-- Age Analysis for Outliers\nSELECT MIN(Age) AS Min_Age, MAX(Age) AS Max_Age, AVG(Age) AS Average_Age\nFROM customer_demographics\nWHERE Age IS NOT NULL;\n\n\n",
   "execution_count": null
  },
  {
   "cell_type": "code",
   "id": "6aeaca13-46eb-4f89-800e-109b166aea77",
   "metadata": {
    "language": "sql",
    "name": "cell61",
    "collapsed": false,
    "resultHeight": 216
   },
   "outputs": [],
   "source": "-- Check for unusual or incorrectly formatted data in Citizenship\nSELECT Citizenship, COUNT(*) AS Count\nFROM customer_demographics\nGROUP BY Citizenship\n",
   "execution_count": null
  },
  {
   "cell_type": "code",
   "id": "72019960-6771-408c-a5c6-d273a0e5a778",
   "metadata": {
    "language": "sql",
    "name": "cell62",
    "collapsed": false,
    "resultHeight": 251
   },
   "outputs": [],
   "source": "-- Distribution by Education Level\nSELECT Education_Level, COUNT(*) AS Count\nFROM customer_demographics\nGROUP BY Education_Level;\n\n\n",
   "execution_count": null
  },
  {
   "cell_type": "code",
   "id": "569fe4de-bc11-401d-9e7a-3c2f6a57897f",
   "metadata": {
    "language": "sql",
    "name": "cell63",
    "collapsed": false,
    "resultHeight": 251
   },
   "outputs": [],
   "source": "-- Analysis of Homeownership\nSELECT Homeownership, COUNT(*) AS Count\nFROM customer_demographics\nGROUP BY Homeownership;\n\n",
   "execution_count": null
  },
  {
   "cell_type": "code",
   "id": "fb6767ea-1f46-400c-948a-0f49ae1f7fd9",
   "metadata": {
    "language": "sql",
    "name": "cell64",
    "collapsed": false,
    "resultHeight": 286
   },
   "outputs": [],
   "source": "\n\n-- Detailed Distribution in Age Groups\nSELECT Age_Group, COUNT(*) AS Count\nFROM customer_demographics\nGROUP BY Age_Group;",
   "execution_count": null
  },
  {
   "cell_type": "markdown",
   "id": "641ebee8-65b6-4716-9cd8-17c3e5bc21fb",
   "metadata": {
    "name": "cell65",
    "collapsed": false,
    "resultHeight": 60
   },
   "source": "## Generated Investment Data"
  },
  {
   "cell_type": "code",
   "id": "980b4eb7-74a3-40be-b623-c5e9d72f57e7",
   "metadata": {
    "language": "sql",
    "name": "cell68",
    "collapsed": false,
    "resultHeight": 438
   },
   "outputs": [],
   "source": "// table diagnostic features \n-- 1. TRUSTBANK.raw\nSELECT * FROM TRUSTBANKDATA.raw.generated_investment_data LIMIT 30;",
   "execution_count": null
  },
  {
   "cell_type": "code",
   "id": "d4d413f8-c512-4ca9-922b-01b7d283524b",
   "metadata": {
    "language": "sql",
    "name": "cell66",
    "collapsed": false,
    "resultHeight": 111
   },
   "outputs": [],
   "source": "SELECT\n    COUNT(*) AS Total_Records,\n    COUNT_IF(InvestmentID IS NULL) AS Missing_InvestmentID,\n    COUNT_IF(CustomerD IS NULL) AS Missing_CustomerID,\n    COUNT_IF(Investment_Type IS NULL) AS Missing_Investment_Type,\n    COUNT_IF(Investment_Amount_SGD IS NULL) AS Missing_Investment_Amount,\n    COUNT_IF(Investment_Start_Date IS NULL) AS Missing_Start_Date,\n    COUNT_IF(Investment_Maturity_Date IS NULL) AS Missing_Maturity_Date,\n    COUNT_IF(Expected_ROI_ IS NULL) AS Missing_Expected_ROI,\n    COUNT_IF(Actual_ROI_ IS NULL) AS Missing_Actual_ROI,\n    COUNT_IF(Risk_Level IS NULL) AS Missing_Risk_Level,\n    COUNT_IF(Performance_Indicator IS NULL) AS Missing_Performance_Indicator\nFROM generated_investment_data;\n",
   "execution_count": null
  },
  {
   "cell_type": "code",
   "id": "d3ebd51f-bef6-4300-912c-37aed1616d76",
   "metadata": {
    "language": "sql",
    "name": "cell67",
    "collapsed": false,
    "resultHeight": 426
   },
   "outputs": [],
   "source": "DESCRIBE TABLE TRUSTBANKDATA.raw.generated_investment_data",
   "execution_count": null
  },
  {
   "cell_type": "code",
   "id": "a89f8283-12ff-43b2-88c0-ceb52b04cd3f",
   "metadata": {
    "language": "sql",
    "name": "cell69",
    "collapsed": false,
    "resultHeight": 111
   },
   "outputs": [],
   "source": "-- Check for investment amounts and ROIs that do not follow expected ranges or formats\nSELECT\n    MIN(Investment_Amount_SGD) AS Min_Amount,\n    MAX(Investment_Amount_SGD) AS Max_Amount,\n    AVG(Investment_Amount_SGD) AS Avg_Amount,\n    MIN(Expected_ROI_) AS Min_Expected_ROI,\n    MAX(Expected_ROI_) AS Max_Expected_ROI,\n    MIN(Actual_ROI_) AS Min_Actual_ROI,\n    MAX(Actual_ROI_) AS Max_Actual_ROI\nFROM TRUSTBANKDATA.raw.generated_investment_data\n\n",
   "execution_count": null
  },
  {
   "cell_type": "code",
   "id": "2f484cec-6932-40f3-8aad-3cff22f7a6b0",
   "metadata": {
    "language": "sql",
    "name": "cell70",
    "collapsed": false,
    "resultHeight": 111
   },
   "outputs": [],
   "source": "-- Check for any investments where the maturity date is before the start date\nSELECT COUNT(*) AS Count_Inconsistent_Dates\nFROM TRUSTBANKDATA.raw.generated_investment_data\nWHERE Investment_Maturity_Date < Investment_Start_Date;\n\n",
   "execution_count": null
  },
  {
   "cell_type": "code",
   "id": "d941d166-b5da-4d21-acff-6dd88c59f351",
   "metadata": {
    "language": "sql",
    "name": "cell71",
    "collapsed": false,
    "resultHeight": 111
   },
   "outputs": [],
   "source": "-- Validate risk levels are within predefined categories\nSELECT Risk_Level, COUNT(*) AS Count\nFROM TRUSTBANKDATA.raw.generated_investment_data\nGROUP BY Risk_Level\nHAVING Risk_Level NOT IN ('Low', 'Medium', 'High');  -- Assuming these are the standard categories",
   "execution_count": null
  },
  {
   "cell_type": "code",
   "id": "6de90f5e-7a62-431b-9862-e33f3db85d08",
   "metadata": {
    "language": "sql",
    "name": "cell72",
    "collapsed": false,
    "resultHeight": 286
   },
   "outputs": [],
   "source": "-- Distribution of investment types\nSELECT Investment_Type, COUNT(*) AS Total\nFROM TRUSTBANKDATA.raw.generated_investment_data\nGROUP BY Investment_Type;\n\n",
   "execution_count": null
  },
  {
   "cell_type": "code",
   "id": "5cee9d60-938f-40ec-ba71-3d9266167474",
   "metadata": {
    "language": "sql",
    "name": "cell73",
    "collapsed": false,
    "resultHeight": 181
   },
   "outputs": [],
   "source": "-- Performance analysis by risk level\nSELECT Risk_Level, AVG(Actual_ROI_) AS Avg_Actual_ROI, COUNT(*) AS Count\nFROM TRUSTBANKDATA.raw.generated_investment_data\nGROUP BY Risk_Level;\n\n",
   "execution_count": null
  },
  {
   "cell_type": "code",
   "id": "b5e778f6-b6d0-47bb-b896-dd7b58e99a4a",
   "metadata": {
    "language": "sql",
    "name": "cell74",
    "collapsed": false,
    "resultHeight": 286
   },
   "outputs": [],
   "source": "-- Performance indicators across investment types\nSELECT Investment_Type, AVG(Expected_ROI_) AS Avg_Expected_ROI, AVG(Actual_ROI_) AS Avg_Actual_ROI\nFROM TRUSTBANKDATA.raw.generated_investment_data\nGROUP BY Investment_Type;",
   "execution_count": null
  },
  {
   "cell_type": "code",
   "id": "45d9320d-00e9-4fcf-933a-04f0eec4b93c",
   "metadata": {
    "language": "sql",
    "name": "cell75",
    "collapsed": false,
    "resultHeight": 111
   },
   "outputs": [],
   "source": "-- Detecting outliers in investment amounts\nSELECT\n    Investment_Type,\n    Investment_Amount_SGD\nFROM TRUSTBANKDATA.raw.generated_investment_data\nWHERE Investment_Amount_SGD > (SELECT AVG(Investment_Amount_SGD) + 3 * STDDEV(Investment_Amount_SGD) FROM TRUSTBANKDATA.raw.generated_investment_data)\n   OR Investment_Amount_SGD < (SELECT AVG(Investment_Amount_SGD) - 3 * STDDEV(Investment_Amount_SGD) FROM TRUSTBANKDATA.raw.generated_investment_data);\n",
   "execution_count": null
  },
  {
   "cell_type": "markdown",
   "id": "a831efae-7f6a-47a1-9346-3e984d229fda",
   "metadata": {
    "name": "cell76",
    "resultHeight": 60
   },
   "source": "## Hour_Lookup"
  },
  {
   "cell_type": "code",
   "id": "ef41d894-1df4-458b-8a93-26b16dc0d9ff",
   "metadata": {
    "language": "sql",
    "name": "cell77",
    "collapsed": false,
    "resultHeight": 438
   },
   "outputs": [],
   "source": "// table diagnostic features \n-- 1. TRUSTBANK.raw\nSELECT * FROM TRUSTBANKDATA.raw.hour_lookup LIMIT 30;",
   "execution_count": null
  },
  {
   "cell_type": "code",
   "id": "ff3d3035-e28a-41c8-a311-0212722a4995",
   "metadata": {
    "language": "sql",
    "name": "cell78",
    "collapsed": false,
    "resultHeight": 111
   },
   "outputs": [],
   "source": "SELECT\n    COUNT(*) AS Total_Records,\n    COUNT_IF(Hour_Key IS NULL) AS Missing_Hour_Key,\n    COUNT_IF(Hour_Start_Time IS NULL) AS Missing_Hour_Start_Time,\n    COUNT_IF(Hour_End_Time IS NULL) AS Missing_Hour_End_Time\nFROM hour_lookup;\n",
   "execution_count": null
  },
  {
   "cell_type": "code",
   "id": "44f4d92d-b9b0-4210-adcc-9ed57ccf411e",
   "metadata": {
    "language": "sql",
    "name": "cell80"
   },
   "outputs": [],
   "source": "DESCRIBE TABLE TRUSTBANKDATA.raw.generated_investment_data",
   "execution_count": null
  },
  {
   "cell_type": "code",
   "id": "c239e6f5-f328-4d17-8f7c-029526ea6252",
   "metadata": {
    "language": "sql",
    "name": "cell79",
    "collapsed": false,
    "resultHeight": 111
   },
   "outputs": [],
   "source": "SELECT\n    Hour_Key,\n    Hour_Start_Time,\n    Hour_End_Time\nFROM hour_lookup\nWHERE Hour_End_Time <= Hour_Start_Time;\n",
   "execution_count": null
  },
  {
   "cell_type": "code",
   "id": "03721a61-ec67-4d82-a815-b081d0215827",
   "metadata": {
    "language": "sql",
    "name": "cell81",
    "collapsed": false,
    "resultHeight": 111
   },
   "outputs": [],
   "source": "SELECT\n    Hour_Key,\n    COUNT(*) AS Count\nFROM hour_lookup\nGROUP BY Hour_Key\nHAVING COUNT(*) > 1;\n",
   "execution_count": null
  },
  {
   "cell_type": "markdown",
   "id": "ad1658a2-3e12-416b-a09a-ff73f485dd93",
   "metadata": {
    "name": "cell82",
    "collapsed": false,
    "resultHeight": 74
   },
   "source": "# Loan"
  },
  {
   "cell_type": "code",
   "id": "639c2a8e-1f67-4277-a1ca-77dc09f2e308",
   "metadata": {
    "language": "sql",
    "name": "cell83",
    "collapsed": false,
    "resultHeight": 438
   },
   "outputs": [],
   "source": "// table diagnostic features \n-- 1. TRUSTBANK.raw\nSELECT * FROM TRUSTBANKDATA.raw.Loan LIMIT 30;",
   "execution_count": null
  },
  {
   "cell_type": "code",
   "id": "aa52dca1-c79d-4613-8b50-e591285c81a1",
   "metadata": {
    "language": "sql",
    "name": "cell84",
    "collapsed": false,
    "resultHeight": 426
   },
   "outputs": [],
   "source": "Describe Table Loan",
   "execution_count": null
  },
  {
   "cell_type": "code",
   "id": "071cd2b9-8869-4640-b27f-16a123a4abfc",
   "metadata": {
    "language": "sql",
    "name": "cell87",
    "collapsed": false,
    "resultHeight": 111
   },
   "outputs": [],
   "source": "-- Check for missing or NULL values in key columns\nSELECT\n    COUNT(*) AS Total_Rows,\n    COUNT(CardholderID) AS Non_Null_CardholderID,\n    COUNT(Loan_ID) AS Non_Null_Loan_ID,\n    COUNT(Loan_Amount) AS Non_Null_Loan_Amount,\n    COUNT(Interest_Rate_) AS Non_Null_Interest_Rate,\n    COUNT(Loan_Term_Months) AS Non_Null_Loan_Term,\n    COUNT(Monthly_Income) AS Non_Null_Monthly_Income,\n    COUNT(Credit_Score) AS Non_Null_Credit_Score,\n    COUNT(Loan_Repayment_Status) AS Non_Null_Loan_Repayment_Status,\n    COUNT(Loan_Repaid) AS Non_Null_Loan_Repaid,\n    COUNT(Loan_Balance) AS Non_Null_Loan_Balance\nFROM Loan;\n",
   "execution_count": null
  },
  {
   "cell_type": "code",
   "id": "09ddcc2a-0e53-4789-817a-c1e5757b81c3",
   "metadata": {
    "language": "sql",
    "name": "cell86",
    "collapsed": false,
    "resultHeight": 181
   },
   "outputs": [],
   "source": "SELECT\n    'Total Rows' AS Metric, COUNT(*) AS Value\nFROM loan\nUNION ALL\nSELECT\n    'Unique Loan IDs', COUNT(DISTINCT Loan_ID)\nFROM loan\nUNION ALL\nSELECT\n    'Missing Loan Amounts', COUNT_IF(Loan_Amount IS NULL)\nFROM loan;\n",
   "execution_count": null
  },
  {
   "cell_type": "code",
   "id": "26a87e05-a2d3-47c1-b03d-1df2b6b889ac",
   "metadata": {
    "language": "sql",
    "name": "cell88",
    "collapsed": false,
    "resultHeight": 438
   },
   "outputs": [],
   "source": "-- Check for duplicate Loan_IDs\nSELECT \n    Loan_ID, \n    COUNT(*) AS Duplicate_Count\nFROM Loan\nGROUP BY Loan_ID\nHAVING COUNT(*) > 1;",
   "execution_count": null
  },
  {
   "cell_type": "code",
   "id": "a5a02a8f-ca96-487b-9846-59aab9c3010e",
   "metadata": {
    "language": "sql",
    "name": "cell89",
    "collapsed": false,
    "resultHeight": 111
   },
   "outputs": [],
   "source": "-- Check for unusually high or low Loan Amounts\nSELECT \n    MIN(Loan_Amount) AS Min_Loan_Amount, \n    MAX(Loan_Amount) AS Max_Loan_Amount, \n    AVG(Loan_Amount) AS Avg_Loan_Amount\nFROM Loan;\n\n",
   "execution_count": null
  },
  {
   "cell_type": "code",
   "id": "d93b19cf-9963-4b0d-a4fd-5669933d5e26",
   "metadata": {
    "language": "sql",
    "name": "cell90",
    "collapsed": false,
    "resultHeight": 111
   },
   "outputs": [],
   "source": "-- Check for extreme Credit Scores (should be between 300 and 850)\nSELECT \n    MIN(Credit_Score) AS Min_Credit_Score, \n    MAX(Credit_Score) AS Max_Credit_Score, \n    AVG(Credit_Score) AS Avg_Credit_Score\nFROM Loan\nWHERE Credit_Score < 300 OR Credit_Score > 850;\n\n",
   "execution_count": null
  },
  {
   "cell_type": "code",
   "id": "b64b9796-f661-4dae-891b-91e57d75e54c",
   "metadata": {
    "language": "sql",
    "name": "cell91",
    "collapsed": false,
    "resultHeight": 111
   },
   "outputs": [],
   "source": "-- Check for unusually low or high Monthly Income\nSELECT \n    MIN(Monthly_Income) AS Min_Monthly_Income, \n    MAX(Monthly_Income) AS Max_Monthly_Income, \n    AVG(Monthly_Income) AS Avg_Monthly_Income\nFROM Loan;\n",
   "execution_count": null
  },
  {
   "cell_type": "code",
   "id": "2ff68eea-bab1-4815-97a1-aaa05beb78e8",
   "metadata": {
    "language": "sql",
    "name": "cell92",
    "collapsed": false,
    "resultHeight": 111
   },
   "outputs": [],
   "source": "-- Check for loans that are fully repaid but still have a non-zero loan balance\nSELECT \n    Loan_ID, \n    Loan_Amount, \n    Loan_Repaid, \n    Loan_Balance\nFROM Loan\nWHERE Loan_Repaid = Loan_Amount AND Loan_Balance > 0;\n\n",
   "execution_count": null
  },
  {
   "cell_type": "code",
   "id": "acf5bf10-d645-4908-8784-ef0618da5874",
   "metadata": {
    "language": "sql",
    "name": "cell93",
    "collapsed": false,
    "resultHeight": 111
   },
   "outputs": [],
   "source": "-- Check for loans where the loan balance exceeds the loan amount\nSELECT \n    Loan_ID, \n    Loan_Amount, \n    Loan_Balance\nFROM Loan\nWHERE Loan_Balance > Loan_Amount;\n",
   "execution_count": null
  },
  {
   "cell_type": "code",
   "id": "9f02e08e-b45f-4c7b-b39a-78b0f572a1fb",
   "metadata": {
    "language": "sql",
    "name": "cell94",
    "collapsed": false,
    "resultHeight": 111
   },
   "outputs": [],
   "source": "-- Check for valid Interest Rates (should be between 0 and 100)\nSELECT \n    MIN(Interest_Rate_) AS Min_Interest_Rate, \n    MAX(Interest_Rate_) AS Max_Interest_Rate\nFROM Loan\nWHERE Interest_Rate_ < 0 OR Interest_Rate_ > 100;\n\n\n",
   "execution_count": null
  },
  {
   "cell_type": "code",
   "id": "918458b0-a3bf-442f-8fec-6dc09d29487d",
   "metadata": {
    "language": "sql",
    "name": "cell95",
    "collapsed": false,
    "resultHeight": 111
   },
   "outputs": [],
   "source": "-- Check for valid Loan Term (should be positive)\nSELECT \n    MIN(Loan_Term_months) AS Min_Loan_Term, \n    MAX(Loan_Term_months) AS Max_Loan_Term\nFROM Loan\nWHERE Loan_Term_months <= 0;",
   "execution_count": null
  },
  {
   "cell_type": "markdown",
   "id": "0b679c2d-0d41-4ceb-94f1-786673aa214a",
   "metadata": {
    "name": "cell96",
    "collapsed": false,
    "resultHeight": 60
   },
   "source": "## Transaction_Type_Lookup"
  },
  {
   "cell_type": "code",
   "id": "e7da4e34-70ef-451a-8228-5127fede103f",
   "metadata": {
    "language": "sql",
    "name": "cell97",
    "collapsed": false,
    "resultHeight": 216
   },
   "outputs": [],
   "source": "// table diagnostic features \n-- 1. TRUSTBANK.raw\nSELECT * FROM TRUSTBANKDATA.raw.transaction_type_lookup LIMIT 30;",
   "execution_count": null
  },
  {
   "cell_type": "code",
   "id": "3244c92c-98e6-4233-8292-4a82acca4ccc",
   "metadata": {
    "language": "sql",
    "name": "cell98",
    "collapsed": false,
    "resultHeight": 146
   },
   "outputs": [],
   "source": "Describe Table TRUSTBANKDATA.raw.transaction_type_lookup",
   "execution_count": null
  },
  {
   "cell_type": "markdown",
   "id": "bffff63d-cc62-47c9-92a0-eb1600ee7303",
   "metadata": {
    "name": "cell99",
    "collapsed": false,
    "resultHeight": 74
   },
   "source": "# Summary of Issues / Things to fix"
  },
  {
   "cell_type": "markdown",
   "id": "793eea3b-08e9-434d-ad77-ec10efc58792",
   "metadata": {
    "name": "cell100",
    "collapsed": false,
    "resultHeight": 195
   },
   "source": "1.Datetime Column Format Issues: Some datetime columns have incorrect formats that need standardization.\\\n2.Inconsistent Spelling/Standardization: Various column names have inconsistent spelling or lack standard naming conventions, which should be standardized.\\\n3.Values from Lookup tables do not correlate with values from actual tables , e.g. Loan etc...\\\n4.Branch Table , Date column random does not have any clear definition\\\n5.Null Values in Tables \\\n6.Combination of the Transaction Tables (FCT,etc..)\n"
  }
 ]
}