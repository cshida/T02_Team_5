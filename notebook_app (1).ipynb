{
 "metadata": {
  "kernelspec": {
   "display_name": "Streamlit Notebook",
   "name": "streamlit"
  },
  "lastEditStatus": {
   "notebookId": "pp27t7w5vhlfifailllx",
   "authorId": "7314641742292",
   "authorName": "GIRAFFE",
   "authorEmail": "s10241591@connect.np.edu.sg",
   "sessionId": "4d005e8e-0816-4aa4-a8b0-19492473dc14",
   "lastEditTime": 1737136523692
  }
 },
 "nbformat_minor": 5,
 "nbformat": 4,
 "cells": [
  {
   "cell_type": "markdown",
   "id": "3c28ed79-71a4-47bb-a681-65631412f1f2",
   "metadata": {
    "name": "cell3",
    "collapsed": false,
    "resultHeight": 74
   },
   "source": "# Trust Bank Data Pre-Processing Exploration"
  },
  {
   "cell_type": "markdown",
   "id": "5528e423-4f0c-4cdd-990b-368574fb9524",
   "metadata": {
    "name": "cell1",
    "collapsed": false,
    "resultHeight": 60
   },
   "source": "## Transaction Table"
  },
  {
   "cell_type": "code",
   "id": "6ad745da-d7c7-4256-bc8b-94bfe709502f",
   "metadata": {
    "language": "sql",
    "name": "cell2",
    "resultHeight": 0
   },
   "outputs": [],
   "source": "// finding all tables in schema \nSELECT 'TRUSTBANK.raw.' || table_name AS full_table_name\nFROM TRUSTBANK.INFORMATION_SCHEMA.TABLES\nWHERE table_schema = 'RAW';\n\n// table diagnostic features \n-- 1. TRUSTBANK.raw.FCT_TRANSACTIONS\nSELECT * FROM TRUSTBANK.raw.FCT_TRANSACTIONS LIMIT 5;\n",
   "execution_count": null
  },
  {
   "cell_type": "code",
   "id": "6b7d5e03-a6bb-470b-b609-dbfaa55ef9ea",
   "metadata": {
    "language": "sql",
    "name": "cell7",
    "collapsed": false,
    "resultHeight": 0
   },
   "outputs": [],
   "source": "DESCRIBE TABLE TRUSTBANK.raw.FCT_TRANSACTIONS",
   "execution_count": null
  },
  {
   "cell_type": "code",
   "id": "99ee41ad-f04b-4a3f-b5e4-b598fdb7855f",
   "metadata": {
    "language": "sql",
    "name": "cell4",
    "collapsed": false,
    "resultHeight": 0
   },
   "outputs": [],
   "source": "SELECT\n    TRANSACTIONID,\n    COUNT(*)\nFROM\n    TRUSTBANK.raw.FCT_TRANSACTIONS\nGROUP BY\n    TRANSACTIONID\nHAVING\n    COUNT(*) > 1;\n",
   "execution_count": null
  },
  {
   "cell_type": "code",
   "id": "76d2d99e-cde4-4e58-a74a-eed04e287244",
   "metadata": {
    "language": "sql",
    "name": "cell5",
    "collapsed": false,
    "resultHeight": 0
   },
   "outputs": [],
   "source": "SELECT\n    COUNT_IF(TRANSACTIONID IS NULL) AS missing_transaction_ids,\n    COUNT_IF(TRANSACTIONSTARTDATETIME IS NULL) AS missing_start_datetime,\n    COUNT_IF(TRANSACTIONENDDATETIME IS NULL) AS missing_end_datetime,\n    COUNT_IF(CARDHOLDERID IS NULL) AS missing_cardholder_id,\n    COUNT_IF(LOCATIONID IS NULL) AS missing_location_id,\n    COUNT_IF(TRANSACTIONTYPEID IS NULL) AS missing_transaction_type_id\nFROM\n    TRUSTBANK.raw.FCT_TRANSACTIONS\n\n",
   "execution_count": null
  },
  {
   "cell_type": "code",
   "id": "0696f128-4e4b-491f-a9a0-dc80f05d10de",
   "metadata": {
    "language": "sql",
    "name": "cell6",
    "collapsed": false,
    "resultHeight": 0
   },
   "outputs": [],
   "source": "SELECT\n    TRANSACTIONTYPEID,\n    COUNT(*) AS count\nFROM\n    TRUSTBANK.raw.FCT_TRANSACTIONS\nGROUP BY\n    TRANSACTIONTYPEID\nORDER BY\n    count DESC;\n",
   "execution_count": null
  },
  {
   "cell_type": "code",
   "id": "f4989c1d-77e1-47af-9872-5b561d67d984",
   "metadata": {
    "language": "sql",
    "name": "cell8",
    "collapsed": false,
    "resultHeight": 0
   },
   "outputs": [],
   "source": "SELECT\n    CARDHOLDERID,\n    COUNT(*) AS transaction_count,\n    MIN(TRANSACTIONSTARTDATETIME) AS first_transaction,\n    MAX(TRANSACTIONENDDATETIME) AS last_transaction\nFROM\n    TRUSTBANK.raw.FCT_TRANSACTIONS\nGROUP BY\n    CARDHOLDERID\nORDER BY\n    transaction_count DESC;\n",
   "execution_count": null
  },
  {
   "cell_type": "code",
   "id": "371bca78-b547-4f62-9f0d-1e9dbeb8a987",
   "metadata": {
    "language": "sql",
    "name": "cell9",
    "collapsed": false,
    "resultHeight": 0
   },
   "outputs": [],
   "source": "SELECT\n    MIN(TRANSACTIONSTARTDATETIME) AS min_start_date,\n    MAX(TRANSACTIONENDDATETIME) AS max_end_date\nFROM\n    TRUSTBANK.raw.FCT_TRANSACTIONS\n",
   "execution_count": null
  }
 ]
}