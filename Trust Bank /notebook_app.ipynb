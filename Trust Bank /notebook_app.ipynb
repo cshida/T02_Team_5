{
 "metadata": {
  "kernelspec": {
   "display_name": "Streamlit Notebook",
   "name": "streamlit"
  },
  "lastEditStatus": {
   "notebookId": "fzqi37istm5bjphtbry6",
   "authorId": "7314641742292",
   "authorName": "GIRAFFE",
   "authorEmail": "s10241591@connect.np.edu.sg",
   "sessionId": "c9653991-49b8-447c-a06a-6111a4117e59",
   "lastEditTime": 1737089232961
  }
 },
 "nbformat_minor": 5,
 "nbformat": 4,
 "cells": []
}