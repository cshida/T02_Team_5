{
 "metadata": {
  "kernelspec": {
   "display_name": "Streamlit Notebook",
   "name": "streamlit"
  },
  "lastEditStatus": {
   "notebookId": "pp27t7w5vhlfifailllx",
   "authorId": "7314641742292",
   "authorName": "GIRAFFE",
   "authorEmail": "s10241591@connect.np.edu.sg",
   "sessionId": "106e9983-c4d8-4a7c-a4e2-95386132b8d9",
   "lastEditTime": 1737089867323
  }
 },
 "nbformat_minor": 5,
 "nbformat": 4,
 "cells": [
  {
   "cell_type": "code",
   "id": "8be1edb5-4a81-4f89-bf8e-7891d0269236",
   "metadata": {
    "language": "python",
    "name": "cell1"
   },
   "outputs": [],
   "source": "#HEllo Test",
   "execution_count": null
  },
  {
   "cell_type": "code",
   "id": "a90429e5-cb5f-450f-b139-98a443e65856",
   "metadata": {
    "language": "python",
    "name": "cell2"
   },
   "outputs": [],
   "source": "#Ethan Test",
   "execution_count": null
  },
  {
   "cell_type": "code",
   "id": "049bb5e2-e7b5-4874-85ed-031b2e9e187c",
   "metadata": {
    "language": "python",
    "name": "cell3"
   },
   "outputs": [],
   "source": "#ni\n",
   "execution_count": null
  }
 ]
}