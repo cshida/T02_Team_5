{
 "metadata": {
  "kernelspec": {
   "display_name": "Streamlit Notebook",
   "name": "streamlit"
  },
  "lastEditStatus": {
   "notebookId": "pp27t7w5vhlfifailllx",
   "authorId": "7314641742292",
   "authorName": "GIRAFFE",
   "authorEmail": "s10241591@connect.np.edu.sg",
   "sessionId": "c9653991-49b8-447c-a06a-6111a4117e59",
   "lastEditTime": 1737089451583
  }
 },
 "nbformat_minor": 5,
 "nbformat": 4,
 "cells": [
  {
   "cell_type": "code",
   "id": "8be1edb5-4a81-4f89-bf8e-7891d0269236",
   "metadata": {
    "language": "python",
    "name": "cell1"
   },
   "outputs": [],
   "source": "#HEllo Test",
   "execution_count": null
  }
 ]
}