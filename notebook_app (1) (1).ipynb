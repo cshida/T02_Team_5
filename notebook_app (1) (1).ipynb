{
 "metadata": {
  "kernelspec": {
   "display_name": "Streamlit Notebook",
   "name": "streamlit"
  },
  "lastEditStatus": {
   "notebookId": "p3nj57msphj2ksmbuc22",
   "authorId": "7314641742292",
   "authorName": "GIRAFFE",
   "authorEmail": "s10241591@connect.np.edu.sg",
   "sessionId": "e8518eda-a848-4c0a-9c46-926e37925878",
   "lastEditTime": 1737219562182
  }
 },
 "nbformat_minor": 5,
 "nbformat": 4,
 "cells": [
  {
   "cell_type": "markdown",
   "id": "3c28ed79-71a4-47bb-a681-65631412f1f2",
   "metadata": {
    "name": "cell3",
    "collapsed": false,
    "resultHeight": 74
   },
   "source": "# Trust Bank Data Pre-Processing Exploration"
  },
  {
   "cell_type": "code",
   "id": "53f8d0ee-152d-4a26-b7e3-e40fbf2bdad6",
   "metadata": {
    "language": "sql",
    "name": "cell27",
    "collapsed": false,
    "resultHeight": 438
   },
   "outputs": [],
   "source": "SELECT 'TRUSTBANKDATA.raw.' || table_name AS full_table_name\nFROM TRUSTBANKDATA.INFORMATION_SCHEMA.TABLES\nWHERE table_schema = 'RAW';",
   "execution_count": null
  },
  {
   "cell_type": "markdown",
   "id": "5528e423-4f0c-4cdd-990b-368574fb9524",
   "metadata": {
    "name": "cell1",
    "collapsed": false,
    "resultHeight": 60
   },
   "source": "## Transaction Tables"
  },
  {
   "cell_type": "code",
   "id": "6ad745da-d7c7-4256-bc8b-94bfe709502f",
   "metadata": {
    "language": "sql",
    "name": "cell2",
    "resultHeight": 426,
    "collapsed": false
   },
   "outputs": [],
   "source": "\n// table diagnostic features \n-- 1. TRUSTBANK.raw.FCT_TRANSACTIONS\nSELECT * FROM TRUSTBANKDATA.raw.FCT_TRANSACTIONS LIMIT 10;\n",
   "execution_count": null
  },
  {
   "cell_type": "code",
   "id": "6b7d5e03-a6bb-470b-b609-dbfaa55ef9ea",
   "metadata": {
    "language": "sql",
    "name": "cell7",
    "collapsed": false,
    "resultHeight": 0
   },
   "outputs": [],
   "source": "DESCRIBE TABLE TRUSTBANKDATA.raw.FCT_TRANSACTIONS",
   "execution_count": null
  },
  {
   "cell_type": "code",
   "id": "99ee41ad-f04b-4a3f-b5e4-b598fdb7855f",
   "metadata": {
    "language": "sql",
    "name": "cell4",
    "collapsed": false,
    "resultHeight": 0
   },
   "outputs": [],
   "source": "SELECT\n    TRANSACTIONID,\n    COUNT(*)\nFROM\n    TRUSTBANKDATA.raw.FCT_TRANSACTIONS\nGROUP BY\n    TRANSACTIONID\nHAVING\n    COUNT(*) > 1;\n",
   "execution_count": null
  },
  {
   "cell_type": "code",
   "id": "76d2d99e-cde4-4e58-a74a-eed04e287244",
   "metadata": {
    "language": "sql",
    "name": "cell5",
    "collapsed": false,
    "resultHeight": 0
   },
   "outputs": [],
   "source": "SELECT\n    COUNT_IF(TRANSACTIONID IS NULL) AS missing_transaction_ids,\n    COUNT_IF(TRANSACTIONSTARTDATETIME IS NULL) AS missing_start_datetime,\n    COUNT_IF(TRANSACTIONENDDATETIME IS NULL) AS missing_end_datetime,\n    COUNT_IF(CARDHOLDERID IS NULL) AS missing_cardholder_id,\n    COUNT_IF(LOCATIONID IS NULL) AS missing_location_id,\n    COUNT_IF(TRANSACTIONTYPEID IS NULL) AS missing_transaction_type_id\nFROM\n    TRUSTBANKDATA.raw.FCT_TRANSACTIONS\n\n",
   "execution_count": null
  },
  {
   "cell_type": "code",
   "id": "0696f128-4e4b-491f-a9a0-dc80f05d10de",
   "metadata": {
    "language": "sql",
    "name": "cell6",
    "collapsed": false,
    "resultHeight": 0
   },
   "outputs": [],
   "source": "SELECT\n    TRANSACTIONTYPEID,\n    COUNT(*) AS count\nFROM\n    TRUSTBANKDATA.raw.FCT_TRANSACTIONS\nGROUP BY\n    TRANSACTIONTYPEID\nORDER BY\n    count DESC;\n",
   "execution_count": null
  },
  {
   "cell_type": "code",
   "id": "f4989c1d-77e1-47af-9872-5b561d67d984",
   "metadata": {
    "language": "sql",
    "name": "cell8",
    "collapsed": false,
    "resultHeight": 0
   },
   "outputs": [],
   "source": "SELECT\n    CARDHOLDERID,\n    COUNT(*) AS transaction_count,\n    MIN(TRANSACTIONSTARTDATETIME) AS first_transaction,\n    MAX(TRANSACTIONENDDATETIME) AS last_transaction\nFROM\n    TRUSTBANKDATA.raw.FCT_TRANSACTIONS\nGROUP BY\n    CARDHOLDERID\nORDER BY\n    transaction_count DESC;\n",
   "execution_count": null
  },
  {
   "cell_type": "code",
   "id": "371bca78-b547-4f62-9f0d-1e9dbeb8a987",
   "metadata": {
    "language": "sql",
    "name": "cell9",
    "collapsed": false,
    "resultHeight": 0
   },
   "outputs": [],
   "source": "SELECT\n    MIN(TRANSACTIONSTARTDATETIME) AS min_start_date,\n    MAX(TRANSACTIONENDDATETIME) AS max_end_date\nFROM\n    TRUSTBANKDATA.raw.FCT_TRANSACTIONS\n",
   "execution_count": null
  },
  {
   "cell_type": "markdown",
   "id": "9e52cb2d-e94b-462e-ac79-085bfe1811ce",
   "metadata": {
    "name": "cell10",
    "collapsed": false,
    "resultHeight": 74
   },
   "source": "# ATM_LOCATION_LOOKUP Table"
  },
  {
   "cell_type": "code",
   "id": "76e624aa-e481-469c-819a-ce56cfd0b244",
   "metadata": {
    "language": "sql",
    "name": "cell11",
    "collapsed": false,
    "resultHeight": 438
   },
   "outputs": [],
   "source": "\n// table diagnostic features \n-- 1. TRUSTBANK.raw\nSELECT * FROM TRUSTBANKDATA.raw.ATM_LOCATION_LOOKUP LIMIT 30;\n",
   "execution_count": null
  },
  {
   "cell_type": "code",
   "id": "98fc6b57-7f25-421a-8883-f805cc307147",
   "metadata": {
    "language": "sql",
    "name": "cell18",
    "collapsed": false,
    "resultHeight": 426
   },
   "outputs": [],
   "source": "DESCRIBE TABLE TRUSTBANKDATA.raw.ATM_LOCATION_LOOKUP",
   "execution_count": null
  },
  {
   "cell_type": "code",
   "id": "684fd13c-9922-4108-8fec-06c0e83ad704",
   "metadata": {
    "language": "sql",
    "name": "cell33",
    "collapsed": false,
    "resultHeight": 111
   },
   "outputs": [],
   "source": "SELECT\n    COUNT_IF(LOCATIONID IS NULL) AS missing_location_ids,\n    COUNT_IF(LOCATION_NAME IS NULL) AS missing_location_names,\n    COUNT_IF(NO_OF_ATMS IS NULL) AS missing_no_of_atms,\n    COUNT_IF(CITY IS NULL) AS missing_cities,\n    COUNT_IF(STATE IS NULL) AS missing_states,\n    COUNT_IF(COUNTRY IS NULL) AS missing_countries,\n    COUNT_IF(INSTALLATION_DATE IS NULL) AS missing_installation_dates,\n    COUNT_IF(MAINTENANCE_DATE IS NULL) AS missing_maintenance_dates,\n    COUNT_IF(OPERATIONAL_STATUS IS NULL) AS missing_operational_statuses,\n    COUNT_IF(CASH_DEPOSIT_AVAILABLE IS NULL) AS missing_cash_deposit_available\nFROM\n   TRUSTBANKDATA.raw.ATM_LOCATION_LOOKUP",
   "execution_count": null
  },
  {
   "cell_type": "code",
   "id": "1e875d82-adee-4fee-983b-215fe0596997",
   "metadata": {
    "language": "sql",
    "name": "cell12",
    "collapsed": false,
    "resultHeight": 438
   },
   "outputs": [],
   "source": "SELECT City, SUM(No_of_ATMS) AS Total_ATMs\nFROM TRUSTBANKDATA.raw.ATM_LOCATION_LOOKUP\nGROUP BY City\nORDER BY Total_ATMs DESC;\n",
   "execution_count": null
  },
  {
   "cell_type": "code",
   "id": "db816323-3670-464e-9944-7d53a80756a6",
   "metadata": {
    "language": "sql",
    "name": "cell13",
    "collapsed": false,
    "resultHeight": 181
   },
   "outputs": [],
   "source": "SELECT Operational_Status, COUNT(*) AS Number_of_Locations\nFROM TRUSTBANKDATA.raw.ATM_LOCATION_LOOKUP\nGROUP BY Operational_Status;",
   "execution_count": null
  },
  {
   "cell_type": "code",
   "id": "f4f40e33-d902-4f15-ac83-59685c788699",
   "metadata": {
    "language": "sql",
    "name": "cell14",
    "collapsed": false,
    "resultHeight": 438
   },
   "outputs": [],
   "source": "SELECT *\nFROM TRUSTBANKDATA.raw.ATM_LOCATION_LOOKUP\nWHERE Maintenance_Date IS NULL;",
   "execution_count": null
  },
  {
   "cell_type": "code",
   "id": "12df437c-b6e7-4297-834f-60957b45e404",
   "metadata": {
    "language": "sql",
    "name": "cell15",
    "collapsed": false,
    "resultHeight": 146
   },
   "outputs": [],
   "source": "SELECT Cash_Deposit_Available, COUNT(*) AS Count\nFROM TRUSTBANKDATA.raw.ATM_LOCATION_LOOKUP\nGROUP BY Cash_Deposit_Available;\n",
   "execution_count": null
  },
  {
   "cell_type": "code",
   "id": "daa82274-f441-4492-87a1-be88d726dfef",
   "metadata": {
    "language": "sql",
    "name": "cell16",
    "collapsed": false,
    "resultHeight": 438
   },
   "outputs": [],
   "source": "SELECT Location_Name, MAX(Maintenance_Date) AS Latest_Maintenance_Date\nFROM TRUSTBANKDATA.raw.ATM_LOCATION_LOOKUP\nWHERE Maintenance_Date is not Null\nGROUP BY Location_Name\nORDER BY Latest_Maintenance_Date DESC;\n",
   "execution_count": null
  },
  {
   "cell_type": "markdown",
   "id": "c4c82998-7b2b-402d-93f3-af8e3eea1df1",
   "metadata": {
    "name": "cell17",
    "collapsed": false,
    "resultHeight": 74
   },
   "source": "# Branch_Lookup Table"
  },
  {
   "cell_type": "code",
   "id": "dd789815-edec-4045-8279-ccbbee99bddb",
   "metadata": {
    "language": "sql",
    "name": "cell19",
    "collapsed": false,
    "resultHeight": 321
   },
   "outputs": [],
   "source": "\n\n// table diagnostic features \n-- 1. TRUSTBANK.raw\nSELECT * FROM TRUSTBANKDATA.raw.BRANCH_LOOKUP LIMIT 30;",
   "execution_count": null
  },
  {
   "cell_type": "code",
   "id": "60a32695-287b-4dea-8229-2322042d3a12",
   "metadata": {
    "language": "sql",
    "name": "cell20",
    "collapsed": false,
    "resultHeight": 251
   },
   "outputs": [],
   "source": "SELECT\n    Location,\n    Yearly_Revenue_SGD\nFROM TRUSTBANKDATA.raw.BRANCH_LOOKUP\nORDER BY CAST(Yearly_Revenue_SGD AS FLOAT) DESC\nLIMIT 5;\n",
   "execution_count": null
  },
  {
   "cell_type": "code",
   "id": "500d6f16-a205-4d68-9f34-53efffd41e60",
   "metadata": {
    "language": "sql",
    "name": "cell21",
    "collapsed": false,
    "resultHeight": 391
   },
   "outputs": [],
   "source": "DESCRIBE TABLE TRUSTBANKDATA.raw.BRANCH_LOOKUP",
   "execution_count": null
  },
  {
   "cell_type": "markdown",
   "id": "b5b28629-71f6-4d3a-9679-9683a1fb6175",
   "metadata": {
    "name": "cell22",
    "collapsed": false,
    "resultHeight": 74
   },
   "source": "# BRANCH_PERFORMANCE Table"
  },
  {
   "cell_type": "code",
   "id": "2a3d3f2d-3ff4-4e7f-8d90-3bdee110a828",
   "metadata": {
    "language": "sql",
    "name": "cell23",
    "collapsed": false,
    "resultHeight": 438
   },
   "outputs": [],
   "source": "\n// table diagnostic features \n-- 1. TRUSTBANK.raw\nSELECT * FROM TRUSTBANKDATA.raw.BRANCH_Performance LIMIT 30;",
   "execution_count": null
  },
  {
   "cell_type": "code",
   "id": "fb577727-7b7f-4e4e-b001-f6ee334bf9be",
   "metadata": {
    "language": "sql",
    "name": "cell31",
    "collapsed": false,
    "resultHeight": 438
   },
   "outputs": [],
   "source": "DESCRIBE TABLE TRUSTBANKDATA.raw.BRANCH_Performance",
   "execution_count": null
  },
  {
   "cell_type": "code",
   "id": "482d3c63-1d47-4990-bfb2-71e16fd07959",
   "metadata": {
    "language": "sql",
    "name": "cell32",
    "collapsed": false,
    "resultHeight": 111
   },
   "outputs": [],
   "source": "SELECT\n    COUNT_IF(branch_id IS NULL) AS missing_branch_ids,\n    COUNT_IF(date IS NULL) AS missing_dates,\n    COUNT_IF(ATM_Usage_Count IS NULL) AS missing_atm_usage_counts,\n    COUNT_IF(Average_Transaction_Time_Minutes IS NULL) AS missing_avg_transaction_times,\n    COUNT_IF(Customer_Satisfaction_Score IS NULL) AS missing_customer_satisfaction_scores,\n    COUNT_IF(Compliance_Issue_Count IS NULL) AS missing_compliance_issue_counts,\n    COUNT_IF(Fraudulent_Transactions_Count IS NULL) AS missing_fraudulent_transaction_counts,\n    COUNT_IF(New_Accounts_Opened_Count IS NULL) AS missing_new_accounts_opened_counts,\n    COUNT_IF(Accounts_Closed_Count IS NULL) AS missing_accounts_closed_counts,\n    COUNT_IF(Credit_Card_Applications_Received_Count IS NULL) AS missing_credit_card_applications_received_counts,\n    COUNT_IF(Branch_Operational_Hours_Hours IS NULL) AS missing_branch_operational_hours,\n    COUNT_IF(ATM_Operational_Hours_Hours IS NULL) AS missing_atm_operational_hours,\n    COUNT_IF(Maintenance_Issues_Reported_Count IS NULL) AS missing_maintenance_issues_reported_counts,\n    COUNT_IF(ATM_Downtime_Hours IS NULL) AS missing_atm_downtime_hours,\n    COUNT_IF(Transaction_Error_Count IS NULL) AS missing_transaction_error_counts\nFROM\n   TRUSTBANKDATA.raw.BRANCH_Performance\n",
   "execution_count": null
  },
  {
   "cell_type": "code",
   "id": "07db46dd-5895-411a-a03f-101ce494f998",
   "metadata": {
    "language": "sql",
    "name": "cell24",
    "collapsed": false,
    "resultHeight": 321
   },
   "outputs": [],
   "source": "SELECT \n    branch_id, \n    AVG(CAST(ATM_Usage_Count AS INT)) AS Avg_ATM_Usage,\n    AVG(Average_Transaction_Time_Minutes) AS Avg_Transaction_Time,\n    AVG(Customer_Satisfaction_Score) AS Avg_Satisfaction_Score,\n    SUM(Fraudulent_Transactions_Count) AS Total_Fraudulent_Transactions,\n    SUM(New_Accounts_Opened_Count) AS Total_New_Accounts,\n    AVG(CAST(ATM_Downtime_Hours AS FLOAT)) AS Avg_ATM_Downtime\nFROM \n    TRUSTBANKDATA.raw.BRANCH_PERFORMANCE\nGROUP BY \n    branch_id;\n",
   "execution_count": null
  },
  {
   "cell_type": "code",
   "id": "2558898e-0cdb-42d9-bfd1-8d56b2c5faae",
   "metadata": {
    "language": "sql",
    "name": "cell25",
    "collapsed": false,
    "resultHeight": 321
   },
   "outputs": [],
   "source": "SELECT \n    branch_id,\n    AVG(Customer_Satisfaction_Score) AS Avg_Customer_Satisfaction,\n    SUM(COMPLIANCE_ISSUE_Count) AS Total_Compliance_Issue\nFROM\n    TRUSTBANKDATA.raw.BRANCH_PERFORMANCE\nGROUP BY \n    branch_id\nORDER BY \n    Avg_Customer_Satisfaction DESC;\n",
   "execution_count": null
  },
  {
   "cell_type": "code",
   "id": "03bf4226-9c50-43f2-9ac8-1202cc08d6f5",
   "metadata": {
    "language": "sql",
    "name": "cell26",
    "collapsed": false,
    "resultHeight": 321
   },
   "outputs": [],
   "source": "SELECT \n    branch_id,\n    SUM(Credit_Card_Applications_Received_Count) AS Total_Credit_Applications,\n    SUM(New_Accounts_Opened_Count) AS Total_New_Accounts,\n    SUM(Accounts_Closed_Count) AS Total_Accounts_Closed\nFROM \n    TRUSTBANKDATA.raw.BRANCH_PERFORMANCE\nGROUP BY \n    branch_id;\n",
   "execution_count": null
  },
  {
   "cell_type": "code",
   "id": "879bc11c-26ef-40ef-8e4b-eed13cc5e846",
   "metadata": {
    "language": "sql",
    "name": "cell28",
    "collapsed": false,
    "resultHeight": 321
   },
   "outputs": [],
   "source": "SELECT \n    branch_id,\n    AVG(Average_Transaction_Time_Minutes) AS Avg_Transaction_Time,\n    AVG(ATM_Operational_Hours_Hours) AS Avg_ATM_Operational_Hours\nFROM \n    TRUSTBANKDATA.raw.BRANCH_PERFORMANCE\nGROUP BY \n    branch_id\nORDER BY \n    Avg_Transaction_Time;\n",
   "execution_count": null
  },
  {
   "cell_type": "code",
   "id": "59ca7f38-b2e8-46ad-88b5-fdbd2528eaad",
   "metadata": {
    "language": "sql",
    "name": "cell29",
    "collapsed": false,
    "resultHeight": 321
   },
   "outputs": [],
   "source": "SELECT \n    branch_id,\n    SUM(Compliance_Issue_Count) AS Total_Compliance_Issues,\n    SUM(Fraudulent_Transactions_Count) AS Total_Fraudulent_Transactions\nFROM \n    TRUSTBANKDATA.raw.BRANCH_PERFORMANCE\nGROUP BY \n    branch_id\nORDER BY \n    Total_Compliance_Issues DESC, \n    Total_Fraudulent_Transactions DESC;\n",
   "execution_count": null
  },
  {
   "cell_type": "code",
   "id": "c1a70d46-64c4-408e-80b5-261381bdaa79",
   "metadata": {
    "language": "sql",
    "name": "cell30",
    "collapsed": false,
    "resultHeight": 321
   },
   "outputs": [],
   "source": "SELECT \n    branch_id,\n    AVG(CAST(ATM_Downtime_Hours AS FLOAT)) AS Avg_ATM_Downtime_Hours,\n    SUM(Maintenance_Issues_Reported_Count) AS Total_Maintenance_Issues\nFROM \n    TRUSTBANKDATA.raw.BRANCH_PERFORMANCE\nGROUP BY \n    branch_id;\n",
   "execution_count": null
  },
  {
   "cell_type": "markdown",
   "id": "4149a519-4506-4174-bcdd-a2d482086d7c",
   "metadata": {
    "name": "cell34",
    "collapsed": false,
    "resultHeight": 74
   },
   "source": "# Branch Table"
  },
  {
   "cell_type": "code",
   "id": "2ac4fcbc-9a71-4a5e-9e88-7b2d7bdf08c6",
   "metadata": {
    "language": "sql",
    "name": "cell35",
    "collapsed": false,
    "resultHeight": 438
   },
   "outputs": [],
   "source": "\n// table diagnostic features \n-- 1. TRUSTBANK.raw\nSELECT * FROM TRUSTBANKDATA.raw.BRANCH_TABLE LIMIT 100;",
   "execution_count": null
  },
  {
   "cell_type": "code",
   "id": "08ba6a79-0633-4613-bdf1-a3d6960200fd",
   "metadata": {
    "language": "sql",
    "name": "cell36",
    "collapsed": false,
    "resultHeight": 111
   },
   "outputs": [],
   "source": "SELECT\n    COUNT_IF(branch_id IS NULL) AS missing_branch_ids,\n    COUNT_IF(date IS NULL) AS missing_dates,\n    COUNT_IF(Branch_Revenue_SGD IS NULL) AS missing_branch_revenue,\n    COUNT_IF(Branch_Expenses_SGD IS NULL) AS missing_branch_expenses,\n    COUNT_IF(Net_Income_SGD IS NULL) AS missing_net_income,\n    COUNT_IF(Branch_Manager_ID IS NULL) AS missing_branch_manager_id,\n    COUNT_IF(Avg_Daily_Branch_Transaction_Value_SGD IS NULL) AS missing_avg_daily_transaction_value,\n    COUNT_IF(Pending_Transactions_Count IS NULL) AS missing_pending_transactions,\n    COUNT_IF(Branch_Avg_Transaction_Queue_Length IS NULL) AS missing_avg_transaction_queue_length,\n    COUNT_IF(Digital_Transactions_Volume_ IS NULL) AS missing_digital_transactions_volume,\n    COUNT_IF(Branch_Internet_Downtime_Hours IS NULL) AS missing_internet_downtime\nFROM\n    TRUSTBANKDATA.raw.BRANCH_TABLE\n",
   "execution_count": null
  },
  {
   "cell_type": "code",
   "id": "7d221877-0e09-4350-bef1-3ad9b11eb389",
   "metadata": {
    "language": "sql",
    "name": "cell37",
    "collapsed": false,
    "resultHeight": 438
   },
   "outputs": [],
   "source": "DESCRIBE TABLE TRUSTBANKDATA.raw.BRANCH_TABLE",
   "execution_count": null
  },
  {
   "cell_type": "code",
   "id": "7934144c-398c-4057-89f2-49d74327ea4f",
   "metadata": {
    "language": "sql",
    "name": "cell38",
    "collapsed": false,
    "resultHeight": 321
   },
   "outputs": [],
   "source": "SELECT\n    branch_id,\n    SUM(CAST(Branch_Revenue_SGD AS FLOAT)) AS Total_Revenue,\n    SUM(CAST(Branch_Expenses_SGD AS FLOAT)) AS Total_Expenses,\n    SUM(CAST(Net_Income_SGD AS FLOAT)) AS Net_Income\nFROM\n    TRUSTBANKDATA.raw.BRANCH_TABLE\nGROUP BY\n    branch_id\nORDER BY\n    Net_Income DESC;\n",
   "execution_count": null
  },
  {
   "cell_type": "markdown",
   "id": "8d8ce5b7-3e55-4759-b064-3f3149f98807",
   "metadata": {
    "name": "cell39",
    "collapsed": false,
    "resultHeight": 74
   },
   "source": "# CALENDAR_LOOKUP"
  },
  {
   "cell_type": "code",
   "id": "c19f03cf-df57-4f6e-bf02-2a7c6a5d0b04",
   "metadata": {
    "language": "sql",
    "name": "cell40",
    "collapsed": false,
    "resultHeight": 438
   },
   "outputs": [],
   "source": "\n// table diagnostic features \n-- 1. TRUSTBANK.raw\nSELECT * FROM TRUSTBANKDATA.raw.calendar_lookup LIMIT 30;",
   "execution_count": null
  },
  {
   "cell_type": "code",
   "id": "7e0c878e-2ba1-468b-95d2-6175e3b33d42",
   "metadata": {
    "language": "sql",
    "name": "cell41",
    "collapsed": false,
    "resultHeight": 111
   },
   "outputs": [],
   "source": "SELECT\n    COUNT_IF(Date IS NULL) AS missing_date,\n    COUNT_IF(Quarter IS NULL) AS missing_quarter,\n    COUNT_IF(Month IS NULL) AS missing_month,\n    COUNT_IF(Month_Name IS NULL) AS missing_month_name,\n    COUNT_IF(DAY_OF_WEEK IS NULL) AS missing_day,\n    COUNT_IF(IsHoliday IS NULL) AS missing_is_holiday,\n    COUNT_IF(Day_Name IS NULL) AS missing_day_name,\n    COUNT_IF(Week_of_Year IS NULL) AS missing_week_of_year,\n    COUNT_IF(Year IS NULL) AS missing_year,\n    COUNT_IF(END_OF_WEEK IS NULL) AS missing_start_of_month\nFROM\n    TRUSTBANKDATA.raw.calendar_lookup\n",
   "execution_count": null
  },
  {
   "cell_type": "code",
   "id": "a10cdadf-1f58-4cf4-b9e5-439905d3ed8d",
   "metadata": {
    "language": "sql",
    "name": "cell42",
    "collapsed": false,
    "resultHeight": 426
   },
   "outputs": [],
   "source": "DESCRIBE TABLE TRUSTBANKDATA.raw.calendar_lookup",
   "execution_count": null
  },
  {
   "cell_type": "markdown",
   "id": "c7d9f7e6-e6c6-45b3-b710-53e559dd739f",
   "metadata": {
    "name": "cell43",
    "collapsed": false,
    "resultHeight": 74
   },
   "source": "# CUSTOMERLOOKUP"
  },
  {
   "cell_type": "code",
   "id": "f48344a5-c534-4f5f-bd52-3200577db354",
   "metadata": {
    "language": "sql",
    "name": "cell44",
    "collapsed": false,
    "resultHeight": 438
   },
   "outputs": [],
   "source": "// table diagnostic features \n-- 1. TRUSTBANK.raw\nSELECT * FROM TRUSTBANKDATA.raw.customerlookup LIMIT 30;",
   "execution_count": null
  },
  {
   "cell_type": "code",
   "id": "e7cca18c-70ea-4560-93da-0ebd37720b31",
   "metadata": {
    "language": "sql",
    "name": "cell45",
    "collapsed": false,
    "resultHeight": 111
   },
   "outputs": [],
   "source": "SELECT\n    COUNT_IF(CardholderID IS NULL) AS missing_cardholder_ids,\n    COUNT_IF(First_Name IS NULL) AS missing_first_names,\n    COUNT_IF(Last_Name IS NULL) AS missing_last_names,\n    COUNT_IF(Gender IS NULL) AS missing_genders,\n    COUNT_IF(ATMID IS NULL) AS missing_atm_ids,\n    COUNT_IF(BIRTH_DATE IS NULL) AS missing_ages,\n    \n    COUNT_IF(AccountType IS NULL) AS missing_account_types,\n    COUNT_IF(IsPrivateBanking IS NULL) AS missing_is_private_banking,\n    COUNT_IF(Preferred_Contact_Method IS NULL) AS missing_preferred_contact_methods,\n    COUNT_IF(CustomerSince IS NULL) AS missing_customer_since,\n    COUNT_IF(PhoneNo IS NULL) AS missing_phone_numbers,\n    COUNT_IF(Balance_SGD IS NULL) AS missing_balances,\n    COUNT_IF(\"BRANCH-ID\" IS NULL) AS missing_branch_ids,\n    COUNT_IF(INVESTMENT_PORTFOLIO_VALUE__SGD IS NULL) AS missing_investment_portfolio_values\nFROM\n    TRUSTBANKDATA.raw.customerlookup\n",
   "execution_count": null
  }
 ]
}